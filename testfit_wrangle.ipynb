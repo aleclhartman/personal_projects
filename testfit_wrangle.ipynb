{
 "cells": [
  {
   "cell_type": "markdown",
   "metadata": {},
   "source": [
    "# Wrangle: [testfit.io](https://blog.testfit.io/)"
   ]
  },
  {
   "cell_type": "code",
   "execution_count": 1,
   "metadata": {},
   "outputs": [],
   "source": [
    "import numpy as np\n",
    "import pandas as pd\n",
    "\n",
    "%matplotlib inline\n",
    "import matplotlib.pyplot as plt\n",
    "import seaborn as sns"
   ]
  },
  {
   "cell_type": "code",
   "execution_count": 2,
   "metadata": {},
   "outputs": [],
   "source": [
    "pd.set_option(\"display.max_columns\", None)\n",
    "plt.rc(\"figure\", figsize=(16, 8))"
   ]
  },
  {
   "cell_type": "markdown",
   "metadata": {},
   "source": [
    "## Stakeholder Notes\n",
    "- Work with Commitments\n",
    "- Activity Descriptions == New Construction, SubRehab, Additions, and Improvements\n",
    "- Loan amount >= $1M:\n",
    "    - Mortgage at time of Firm Commitment Issuance, Amendment or Reissuance?\n",
    "    - Mortgage at Firm Commitment Issuance?\n",
    "    - Final Mortgage Amount? **Probably this one...**\n",
    "- Market == Large urban centers; meaning **cities** not just states; not rural one-off projects\n",
    "- Types of FHA loan is irrelevant"
   ]
  },
  {
   "cell_type": "code",
   "execution_count": 3,
   "metadata": {},
   "outputs": [
    {
     "name": "stdout",
     "output_type": "stream",
     "text": [
      "(20918, 29)\n"
     ]
    },
    {
     "data": {
      "text/html": [
       "<div>\n",
       "<style scoped>\n",
       "    .dataframe tbody tr th:only-of-type {\n",
       "        vertical-align: middle;\n",
       "    }\n",
       "\n",
       "    .dataframe tbody tr th {\n",
       "        vertical-align: top;\n",
       "    }\n",
       "\n",
       "    .dataframe thead th {\n",
       "        text-align: right;\n",
       "    }\n",
       "</style>\n",
       "<table border=\"1\" class=\"dataframe\">\n",
       "  <thead>\n",
       "    <tr style=\"text-align: right;\">\n",
       "      <th></th>\n",
       "      <th>FHA Number</th>\n",
       "      <th>Project Name</th>\n",
       "      <th>Project City</th>\n",
       "      <th>Project State</th>\n",
       "      <th>Basic FHA, Risk Share or Other</th>\n",
       "      <th>Program Category</th>\n",
       "      <th>Activity Description</th>\n",
       "      <th>Activity Group</th>\n",
       "      <th>Facility Type</th>\n",
       "      <th>Program Designation</th>\n",
       "      <th>Firm Commitment Activity</th>\n",
       "      <th>Lender at Firm Commitment Activity</th>\n",
       "      <th>Mortgage at time of Firm Commitment Issuance, Amendment or Reissuance</th>\n",
       "      <th>Unit or Bed Count</th>\n",
       "      <th>Date of Firm Commitment Activity</th>\n",
       "      <th>Fiscal Year of Firm Commitment Activity</th>\n",
       "      <th>Mortgage at Firm Commitment Issuance</th>\n",
       "      <th>Date of Firm Issue</th>\n",
       "      <th>Fiscal Year of Firm Commitment</th>\n",
       "      <th>MAP or TAP</th>\n",
       "      <th>LIHTC Designation</th>\n",
       "      <th>Tax Exempt Bond Designation</th>\n",
       "      <th>HOME Designation</th>\n",
       "      <th>CDBG Designation</th>\n",
       "      <th>Section 202 Refi Designation</th>\n",
       "      <th>IRP Decoupling Designation</th>\n",
       "      <th>HOPE VI Designation</th>\n",
       "      <th>Current Status</th>\n",
       "      <th>Final Mortgage Amount</th>\n",
       "    </tr>\n",
       "  </thead>\n",
       "  <tbody>\n",
       "    <tr>\n",
       "      <th>0</th>\n",
       "      <td>11345004</td>\n",
       "      <td>Western Heights Apartments</td>\n",
       "      <td>Olney</td>\n",
       "      <td>TX</td>\n",
       "      <td>Basic FHA</td>\n",
       "      <td>223a7 Refi Apts</td>\n",
       "      <td>Refinance</td>\n",
       "      <td>Refi/ Pchse</td>\n",
       "      <td>Apts</td>\n",
       "      <td>a7/236</td>\n",
       "      <td>Firm Issued</td>\n",
       "      <td>GREYSTONE SERVICING COMPANY LLC</td>\n",
       "      <td>277600</td>\n",
       "      <td>48</td>\n",
       "      <td>2005-10-01</td>\n",
       "      <td>2006</td>\n",
       "      <td>277600</td>\n",
       "      <td>2005-10-01</td>\n",
       "      <td>2006</td>\n",
       "      <td>TAP</td>\n",
       "      <td>0</td>\n",
       "      <td>0</td>\n",
       "      <td>0</td>\n",
       "      <td>0</td>\n",
       "      <td>0</td>\n",
       "      <td>0</td>\n",
       "      <td>0</td>\n",
       "      <td>Firm Comit then Owner Withdrew</td>\n",
       "      <td>271700</td>\n",
       "    </tr>\n",
       "    <tr>\n",
       "      <th>1</th>\n",
       "      <td>11345005</td>\n",
       "      <td>Woodlands Village Apts</td>\n",
       "      <td>Breckenridge</td>\n",
       "      <td>TX</td>\n",
       "      <td>Basic FHA</td>\n",
       "      <td>223a7 Refi Apts</td>\n",
       "      <td>Refinance</td>\n",
       "      <td>Refi/ Pchse</td>\n",
       "      <td>Apts</td>\n",
       "      <td>a7/236</td>\n",
       "      <td>Firm Issued</td>\n",
       "      <td>GREYSTONE SERVICING COMPANY LLC</td>\n",
       "      <td>173000</td>\n",
       "      <td>88</td>\n",
       "      <td>2005-10-01</td>\n",
       "      <td>2006</td>\n",
       "      <td>173000</td>\n",
       "      <td>2005-10-01</td>\n",
       "      <td>2006</td>\n",
       "      <td>TAP</td>\n",
       "      <td>0</td>\n",
       "      <td>0</td>\n",
       "      <td>0</td>\n",
       "      <td>0</td>\n",
       "      <td>0</td>\n",
       "      <td>0</td>\n",
       "      <td>0</td>\n",
       "      <td>Finally Endorsed</td>\n",
       "      <td>168300</td>\n",
       "    </tr>\n",
       "    <tr>\n",
       "      <th>2</th>\n",
       "      <td>4235583</td>\n",
       "      <td>Harbor Court Apartments</td>\n",
       "      <td>Rocky River</td>\n",
       "      <td>OH</td>\n",
       "      <td>Basic FHA</td>\n",
       "      <td>223a7 Refi Apts</td>\n",
       "      <td>Refinance</td>\n",
       "      <td>Refi/ Pchse</td>\n",
       "      <td>Apts</td>\n",
       "      <td>a7/221d4</td>\n",
       "      <td>Firm Issued</td>\n",
       "      <td>GREYSTONE SERVICING COMPANY LLC</td>\n",
       "      <td>3886800</td>\n",
       "      <td>120</td>\n",
       "      <td>2005-10-03</td>\n",
       "      <td>2006</td>\n",
       "      <td>3886800</td>\n",
       "      <td>2005-10-03</td>\n",
       "      <td>2006</td>\n",
       "      <td>TAP</td>\n",
       "      <td>0</td>\n",
       "      <td>0</td>\n",
       "      <td>0</td>\n",
       "      <td>0</td>\n",
       "      <td>0</td>\n",
       "      <td>0</td>\n",
       "      <td>0</td>\n",
       "      <td>Finally Endorsed</td>\n",
       "      <td>3886800</td>\n",
       "    </tr>\n",
       "    <tr>\n",
       "      <th>3</th>\n",
       "      <td>3297260</td>\n",
       "      <td>Compton Towne Apartments</td>\n",
       "      <td>Wilmington</td>\n",
       "      <td>DE</td>\n",
       "      <td>Risk Sharing</td>\n",
       "      <td>QPE Risk Sharing</td>\n",
       "      <td>Refinance</td>\n",
       "      <td>Refi/ Pchse</td>\n",
       "      <td>Coop/Apts/Mobile Home Pk/ALF</td>\n",
       "      <td>QPE Risk Shg Existing</td>\n",
       "      <td>Firm Issued</td>\n",
       "      <td>FEDERAL NATIONAL MORTGAGE</td>\n",
       "      <td>4000000</td>\n",
       "      <td>76</td>\n",
       "      <td>2005-10-03</td>\n",
       "      <td>2006</td>\n",
       "      <td>4000000</td>\n",
       "      <td>2005-10-03</td>\n",
       "      <td>2006</td>\n",
       "      <td>TAP</td>\n",
       "      <td>Y</td>\n",
       "      <td>0</td>\n",
       "      <td>0</td>\n",
       "      <td>0</td>\n",
       "      <td>0</td>\n",
       "      <td>0</td>\n",
       "      <td>0</td>\n",
       "      <td>Finally Endorsed</td>\n",
       "      <td>4000000</td>\n",
       "    </tr>\n",
       "    <tr>\n",
       "      <th>4</th>\n",
       "      <td>7135779</td>\n",
       "      <td>Evergreen Terrace I</td>\n",
       "      <td>Joliet</td>\n",
       "      <td>IL</td>\n",
       "      <td>Basic FHA</td>\n",
       "      <td>223a7 Refi Apts</td>\n",
       "      <td>Refinance</td>\n",
       "      <td>Refi/ Pchse</td>\n",
       "      <td>Apts</td>\n",
       "      <td>a7/221d4</td>\n",
       "      <td>Firm Issued</td>\n",
       "      <td>REILLY MORTGAGE GRP</td>\n",
       "      <td>5129000</td>\n",
       "      <td>241</td>\n",
       "      <td>2005-10-04</td>\n",
       "      <td>2006</td>\n",
       "      <td>5129000</td>\n",
       "      <td>2005-10-04</td>\n",
       "      <td>2006</td>\n",
       "      <td>TAP</td>\n",
       "      <td>0</td>\n",
       "      <td>0</td>\n",
       "      <td>0</td>\n",
       "      <td>0</td>\n",
       "      <td>0</td>\n",
       "      <td>0</td>\n",
       "      <td>0</td>\n",
       "      <td>Firm Expired</td>\n",
       "      <td>5247700</td>\n",
       "    </tr>\n",
       "  </tbody>\n",
       "</table>\n",
       "</div>"
      ],
      "text/plain": [
       "   FHA Number                Project Name  Project City Project State  \\\n",
       "0    11345004  Western Heights Apartments         Olney            TX   \n",
       "1    11345005      Woodlands Village Apts  Breckenridge            TX   \n",
       "2     4235583     Harbor Court Apartments   Rocky River            OH   \n",
       "3     3297260    Compton Towne Apartments    Wilmington            DE   \n",
       "4     7135779         Evergreen Terrace I        Joliet            IL   \n",
       "\n",
       "  Basic FHA, Risk Share or Other  Program Category Activity Description  \\\n",
       "0                      Basic FHA   223a7 Refi Apts            Refinance   \n",
       "1                      Basic FHA   223a7 Refi Apts            Refinance   \n",
       "2                      Basic FHA   223a7 Refi Apts            Refinance   \n",
       "3                   Risk Sharing  QPE Risk Sharing            Refinance   \n",
       "4                      Basic FHA   223a7 Refi Apts            Refinance   \n",
       "\n",
       "  Activity Group                 Facility Type    Program Designation  \\\n",
       "0    Refi/ Pchse                          Apts                 a7/236   \n",
       "1    Refi/ Pchse                          Apts                 a7/236   \n",
       "2    Refi/ Pchse                          Apts               a7/221d4   \n",
       "3    Refi/ Pchse  Coop/Apts/Mobile Home Pk/ALF  QPE Risk Shg Existing   \n",
       "4    Refi/ Pchse                          Apts               a7/221d4   \n",
       "\n",
       "  Firm Commitment Activity Lender at Firm Commitment Activity  \\\n",
       "0              Firm Issued    GREYSTONE SERVICING COMPANY LLC   \n",
       "1              Firm Issued    GREYSTONE SERVICING COMPANY LLC   \n",
       "2              Firm Issued    GREYSTONE SERVICING COMPANY LLC   \n",
       "3              Firm Issued          FEDERAL NATIONAL MORTGAGE   \n",
       "4              Firm Issued                REILLY MORTGAGE GRP   \n",
       "\n",
       "   Mortgage at time of Firm Commitment Issuance, Amendment or Reissuance  \\\n",
       "0                                             277600                       \n",
       "1                                             173000                       \n",
       "2                                            3886800                       \n",
       "3                                            4000000                       \n",
       "4                                            5129000                       \n",
       "\n",
       "   Unit or Bed Count Date of Firm Commitment Activity  \\\n",
       "0                 48                       2005-10-01   \n",
       "1                 88                       2005-10-01   \n",
       "2                120                       2005-10-03   \n",
       "3                 76                       2005-10-03   \n",
       "4                241                       2005-10-04   \n",
       "\n",
       "   Fiscal Year of Firm Commitment Activity  \\\n",
       "0                                     2006   \n",
       "1                                     2006   \n",
       "2                                     2006   \n",
       "3                                     2006   \n",
       "4                                     2006   \n",
       "\n",
       "   Mortgage at Firm Commitment Issuance Date of Firm Issue  \\\n",
       "0                                277600         2005-10-01   \n",
       "1                                173000         2005-10-01   \n",
       "2                               3886800         2005-10-03   \n",
       "3                               4000000         2005-10-03   \n",
       "4                               5129000         2005-10-04   \n",
       "\n",
       "   Fiscal Year of Firm Commitment MAP or TAP LIHTC Designation  \\\n",
       "0                            2006        TAP                 0   \n",
       "1                            2006        TAP                 0   \n",
       "2                            2006        TAP                 0   \n",
       "3                            2006        TAP                 Y   \n",
       "4                            2006        TAP                 0   \n",
       "\n",
       "  Tax Exempt Bond Designation HOME Designation CDBG Designation  \\\n",
       "0                           0                0                0   \n",
       "1                           0                0                0   \n",
       "2                           0                0                0   \n",
       "3                           0                0                0   \n",
       "4                           0                0                0   \n",
       "\n",
       "  Section 202 Refi Designation IRP Decoupling Designation HOPE VI Designation  \\\n",
       "0                            0                          0                   0   \n",
       "1                            0                          0                   0   \n",
       "2                            0                          0                   0   \n",
       "3                            0                          0                   0   \n",
       "4                            0                          0                   0   \n",
       "\n",
       "                   Current Status  Final Mortgage Amount  \n",
       "0  Firm Comit then Owner Withdrew                 271700  \n",
       "1                Finally Endorsed                 168300  \n",
       "2                Finally Endorsed                3886800  \n",
       "3                Finally Endorsed                4000000  \n",
       "4                    Firm Expired                5247700  "
      ]
     },
     "execution_count": 3,
     "metadata": {},
     "output_type": "execute_result"
    }
   ],
   "source": [
    "# commitments\n",
    "df  = pd.read_excel(\"Initi_Endores_Firm Comm_DB_FY06_FY20_Q2.xlsx\", sheet_name=\"Firm Cmtmts, Iss'd and Reiss'd\", header=6)\n",
    "print(df.shape)\n",
    "df.head()"
   ]
  },
  {
   "cell_type": "code",
   "execution_count": 4,
   "metadata": {},
   "outputs": [],
   "source": [
    "df.rename(columns={\"Activity Group\": \"activity_group\"}, inplace=True)"
   ]
  },
  {
   "cell_type": "code",
   "execution_count": 5,
   "metadata": {},
   "outputs": [],
   "source": [
    "# activity_groups\n",
    "df = df[(df.activity_group == \"NC/SR\") | (df.activity_group == \"Imp/Adds\")]"
   ]
  },
  {
   "cell_type": "code",
   "execution_count": 6,
   "metadata": {},
   "outputs": [],
   "source": [
    "# df = df[df[\"Final Mortgage Amount\"] >= 1000000]\n",
    "# df.head()"
   ]
  },
  {
   "cell_type": "code",
   "execution_count": 7,
   "metadata": {},
   "outputs": [
    {
     "name": "stdout",
     "output_type": "stream",
     "text": [
      "<class 'pandas.core.frame.DataFrame'>\n",
      "Int64Index: 3934 entries, 5 to 20909\n",
      "Data columns (total 29 columns):\n",
      "FHA Number                                                               3934 non-null int64\n",
      "Project Name                                                             3934 non-null object\n",
      "Project City                                                             3934 non-null object\n",
      "Project State                                                            3934 non-null object\n",
      "Basic FHA, Risk Share or Other                                           3934 non-null object\n",
      "Program Category                                                         3934 non-null object\n",
      "Activity Description                                                     3934 non-null object\n",
      "activity_group                                                           3934 non-null object\n",
      "Facility Type                                                            3934 non-null object\n",
      "Program Designation                                                      3934 non-null object\n",
      "Firm Commitment Activity                                                 3934 non-null object\n",
      "Lender at Firm Commitment Activity                                       3934 non-null object\n",
      "Mortgage at time of Firm Commitment Issuance, Amendment or Reissuance    3934 non-null int64\n",
      "Unit or Bed Count                                                        3934 non-null int64\n",
      "Date of Firm Commitment Activity                                         3934 non-null datetime64[ns]\n",
      "Fiscal Year of Firm Commitment Activity                                  3934 non-null int64\n",
      "Mortgage at Firm Commitment Issuance                                     3934 non-null int64\n",
      "Date of Firm Issue                                                       3934 non-null datetime64[ns]\n",
      "Fiscal Year of Firm Commitment                                           3934 non-null int64\n",
      "MAP or TAP                                                               3934 non-null object\n",
      "LIHTC Designation                                                        3934 non-null object\n",
      "Tax Exempt Bond Designation                                              3934 non-null object\n",
      "HOME Designation                                                         3934 non-null object\n",
      "CDBG Designation                                                         3934 non-null object\n",
      "Section 202 Refi Designation                                             3934 non-null object\n",
      "IRP Decoupling Designation                                               3934 non-null object\n",
      "HOPE VI Designation                                                      3934 non-null object\n",
      "Current Status                                                           3934 non-null object\n",
      "Final Mortgage Amount                                                    3934 non-null int64\n",
      "dtypes: datetime64[ns](2), int64(7), object(20)\n",
      "memory usage: 922.0+ KB\n"
     ]
    }
   ],
   "source": [
    "df.info()"
   ]
  },
  {
   "cell_type": "code",
   "execution_count": 8,
   "metadata": {},
   "outputs": [
    {
     "data": {
      "text/plain": [
       "New Construction    2465\n",
       "SubRehab            1418\n",
       "Purchase              25\n",
       "Refinance             24\n",
       "Improvements           1\n",
       "Additions              1\n",
       "Name: Activity Description, dtype: int64"
      ]
     },
     "execution_count": 8,
     "metadata": {},
     "output_type": "execute_result"
    }
   ],
   "source": [
    "df[\"Activity Description\"].value_counts()"
   ]
  },
  {
   "cell_type": "code",
   "execution_count": 9,
   "metadata": {},
   "outputs": [
    {
     "data": {
      "text/plain": [
       "NC/SR    3934\n",
       "Name: activity_group, dtype: int64"
      ]
     },
     "execution_count": 9,
     "metadata": {},
     "output_type": "execute_result"
    }
   ],
   "source": [
    "df[\"activity_group\"].value_counts()"
   ]
  },
  {
   "cell_type": "code",
   "execution_count": 10,
   "metadata": {},
   "outputs": [],
   "source": [
    "df.rename(columns={\"Facility Type\": \"facility_type\"}, inplace=True)"
   ]
  },
  {
   "cell_type": "code",
   "execution_count": 11,
   "metadata": {},
   "outputs": [
    {
     "data": {
      "text/plain": [
       "Apts                            2689\n",
       "Coop/Apts/Mobile Home Pk/ALF     790\n",
       "Asst'd Livg                      211\n",
       "Nursing/ICF                      106\n",
       "Coop                              71\n",
       "Hospital                          47\n",
       "Apts/Coops                        10\n",
       "Mobile Home Pk                     5\n",
       "SRO                                3\n",
       "Board & Care                       2\n",
       "Name: facility_type, dtype: int64"
      ]
     },
     "execution_count": 11,
     "metadata": {},
     "output_type": "execute_result"
    }
   ],
   "source": [
    "df.facility_type.value_counts()"
   ]
  },
  {
   "cell_type": "code",
   "execution_count": 12,
   "metadata": {},
   "outputs": [],
   "source": [
    "df.rename(columns={\"FHA Number\": \"fha_number\"}, inplace=True)"
   ]
  },
  {
   "cell_type": "code",
   "execution_count": 13,
   "metadata": {},
   "outputs": [
    {
     "data": {
      "image/png": "[encoded data removed]",
      "text/plain": [
       "<Figure size 1152x576 with 1 Axes>"
      ]
     },
     "metadata": {
      "needs_background": "light"
     },
     "output_type": "display_data"
    }
   ],
   "source": [
    "df.groupby([\"Project State\"]).fha_number.count().sort_values().plot.barh()\n",
    "plt.show()"
   ]
  },
  {
   "cell_type": "code",
   "execution_count": 14,
   "metadata": {},
   "outputs": [
    {
     "data": {
      "text/plain": [
       "(3856, 29)"
      ]
     },
     "execution_count": 14,
     "metadata": {},
     "output_type": "execute_result"
    }
   ],
   "source": [
    "df[df[\"Final Mortgage Amount\"] >= 1000000].shape"
   ]
  },
  {
   "cell_type": "code",
   "execution_count": 15,
   "metadata": {},
   "outputs": [],
   "source": [
    "df.rename(columns={\"Final Mortgage Amount\": \"final_mortgage\"}, inplace=True)"
   ]
  },
  {
   "cell_type": "code",
   "execution_count": 16,
   "metadata": {},
   "outputs": [
    {
     "data": {
      "text/plain": [
       "<matplotlib.axes._subplots.AxesSubplot at 0x7fc8562c0110>"
      ]
     },
     "execution_count": 16,
     "metadata": {},
     "output_type": "execute_result"
    },
    {
     "data": {
      "image/png": "[encoded data removed]",
      "text/plain": [
       "<Figure size 1152x576 with 1 Axes>"
      ]
     },
     "metadata": {
      "needs_background": "light"
     },
     "output_type": "display_data"
    }
   ],
   "source": [
    "df.groupby([\"Project State\"]).final_mortgage.sum().sort_values().plot.barh()"
   ]
  },
  {
   "cell_type": "code",
   "execution_count": 17,
   "metadata": {},
   "outputs": [
    {
     "data": {
      "text/plain": [
       "Chicago        65\n",
       "Baltimore      53\n",
       "San Antonio    48\n",
       "Boston         47\n",
       "Washington     40\n",
       "Minneapolis    36\n",
       "Atlanta        35\n",
       "Austin         35\n",
       "Cleveland      30\n",
       "Dallas         28\n",
       "Denver         28\n",
       "Columbus       27\n",
       "Los Angeles    23\n",
       "Charlotte      23\n",
       "Nashville      23\n",
       "Kansas City    22\n",
       "St. Louis      22\n",
       "Knoxville      21\n",
       "Columbia       21\n",
       "Seattle        21\n",
       "Name: Project City, dtype: int64"
      ]
     },
     "execution_count": 17,
     "metadata": {},
     "output_type": "execute_result"
    }
   ],
   "source": [
    "df[\"Project City\"].value_counts().head(20)"
   ]
  },
  {
   "cell_type": "code",
   "execution_count": 18,
   "metadata": {},
   "outputs": [
    {
     "data": {
      "text/plain": [
       "Project City  Fiscal Year of Firm Commitment\n",
       "55435         2018                               1\n",
       "New York      2018                               1\n",
       "New Your      2019                               1\n",
       "New orleans   2011                               1\n",
       "Newark        2009                               1\n",
       "                                                ..\n",
       "Austin        2018                               8\n",
       "Boston        2019                               8\n",
       "San Antonio   2019                               9\n",
       "Boston        2020                              10\n",
       "Baltimore     2016                              12\n",
       "Length: 3050, dtype: int64"
      ]
     },
     "execution_count": 18,
     "metadata": {},
     "output_type": "execute_result"
    }
   ],
   "source": [
    "df.groupby([\"Project City\", \"Fiscal Year of Firm Commitment\"]).size().sort_values()"
   ]
  },
  {
   "cell_type": "code",
   "execution_count": 19,
   "metadata": {},
   "outputs": [
    {
     "data": {
      "text/plain": [
       "Project City              Fiscal Year of Firm Commitment\n",
       "roxbury                   2010                                      1\n",
       "Covington                 2006                                 125000\n",
       "Butler                    2006                                 200000\n",
       "Central City              2006                                 240400\n",
       "London                    2006                                 250000\n",
       "                                                              ...    \n",
       "Columbus                  2011                              295893700\n",
       "Cumberland                2006                              341358700\n",
       "Queens                    2020                              361055000\n",
       "Long Island City, Queens  2019                              386525000\n",
       "Trenton                   2009                              759974500\n",
       "Name: final_mortgage, Length: 3050, dtype: int64"
      ]
     },
     "execution_count": 19,
     "metadata": {},
     "output_type": "execute_result"
    }
   ],
   "source": [
    "df.groupby([\"Project City\", \"Fiscal Year of Firm Commitment\"])[\"final_mortgage\"].sum().sort_values()"
   ]
  },
  {
   "cell_type": "code",
   "execution_count": 20,
   "metadata": {},
   "outputs": [
    {
     "data": {
      "text/plain": [
       "Fiscal Year of Firm Commitment\n",
       "2006     14083843\n",
       "2007      7510000\n",
       "2009     18128300\n",
       "2010     21478400\n",
       "2011     19887200\n",
       "2012     14378600\n",
       "2013     81963100\n",
       "2014    108262100\n",
       "2015     22859500\n",
       "2016     18903400\n",
       "2017     67822400\n",
       "2018    253451500\n",
       "2019     68095900\n",
       "2020    146431700\n",
       "Name: final_mortgage, dtype: int64"
      ]
     },
     "execution_count": 20,
     "metadata": {},
     "output_type": "execute_result"
    }
   ],
   "source": [
    "df[df[\"Project City\"] == \"Austin\"].groupby(\"Fiscal Year of Firm Commitment\")[\"final_mortgage\"].sum()"
   ]
  },
  {
   "cell_type": "code",
   "execution_count": 21,
   "metadata": {},
   "outputs": [
    {
     "data": {
      "text/plain": [
       "Fiscal Year of Firm Commitment\n",
       "2006    14121493\n",
       "2007     2375000\n",
       "2008    14829000\n",
       "2010    25523000\n",
       "2011    80448842\n",
       "2012    55004500\n",
       "2013    22876500\n",
       "2014    62015800\n",
       "2015    38850700\n",
       "2016    51137000\n",
       "2017    42034400\n",
       "2018    62178200\n",
       "2019    34185200\n",
       "Name: final_mortgage, dtype: int64"
      ]
     },
     "execution_count": 21,
     "metadata": {},
     "output_type": "execute_result"
    }
   ],
   "source": [
    "df[df[\"Project City\"] == \"Minneapolis\"].groupby(\"Fiscal Year of Firm Commitment\")[\"final_mortgage\"].sum()"
   ]
  },
  {
   "cell_type": "code",
   "execution_count": null,
   "metadata": {},
   "outputs": [],
   "source": []
  }
 ],
 "metadata": {
  "kernelspec": {
   "display_name": "Python 3",
   "language": "python",
   "name": "python3"
  },
  "language_info": {
   "codemirror_mode": {
    "name": "ipython",
    "version": 3
   },
   "file_extension": ".py",
   "mimetype": "text/x-python",
   "name": "python",
   "nbconvert_exporter": "python",
   "pygments_lexer": "ipython3",
   "version": "3.7.4"
  }
 },
 "nbformat": 4,
 "nbformat_minor": 2
}
