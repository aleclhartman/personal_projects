{
 "cells": [
  {
   "cell_type": "code",
   "execution_count": 1,
   "metadata": {},
   "outputs": [
    {
     "name": "stdout",
     "output_type": "stream",
     "text": [
      "Weird\n"
     ]
    }
   ],
   "source": [
    "n = 3\n",
    "\n",
    "if (n % 2 == 1):\n",
    "    print(\"Weird\")\n",
    "elif (n in range(2, 6)) and (n % 2 == 0):\n",
    "    print(\"Not Weird\")\n",
    "elif (n in range(6, 21)) and (n % 2 == 0):\n",
    "    print(\"Weird\")\n",
    "elif (n % 2 == 0) and (n > 20):\n",
    "    print(\"Not Weird\")"
   ]
  },
  {
   "cell_type": "code",
   "execution_count": 2,
   "metadata": {},
   "outputs": [
    {
     "name": "stdout",
     "output_type": "stream",
     "text": [
      "Not Weird\n"
     ]
    }
   ],
   "source": [
    "n = 24\n",
    "\n",
    "if (n % 2 == 1):\n",
    "    print(\"Weird\")\n",
    "elif (n in range(2, 6)) and (n % 2 == 0):\n",
    "    print(\"Not Weird\")\n",
    "elif (n in range(6, 21)) and (n % 2 == 0):\n",
    "    print(\"Weird\")\n",
    "elif (n % 2 == 0) and (n > 20):\n",
    "    print(\"Not Weird\")"
   ]
  },
  {
   "cell_type": "code",
   "execution_count": 3,
   "metadata": {},
   "outputs": [
    {
     "data": {
      "text/plain": [
       "[[0, 0, 0], [0, 0, 1], [0, 1, 0], [1, 0, 0], [1, 1, 1]]"
      ]
     },
     "execution_count": 3,
     "metadata": {},
     "output_type": "execute_result"
    }
   ],
   "source": [
    "x = 1\n",
    "y = 1\n",
    "z = 1\n",
    "n = 2\n",
    "\n",
    "[[i, j, k] for i in range(0, x + 1) for j in range(0, y + 1) for k in range(0, z + 1) if (i + j + k) != n]"
   ]
  },
  {
   "cell_type": "code",
   "execution_count": 4,
   "metadata": {},
   "outputs": [
    {
     "data": {
      "text/plain": [
       "5"
      ]
     },
     "execution_count": 4,
     "metadata": {},
     "output_type": "execute_result"
    }
   ],
   "source": [
    "list1 = [2, 3, 6, 6, 5]\n",
    "n = len(list1)\n",
    "\n",
    "mx = max(list1[0], list1[1])\n",
    "secondmx = min(list1[0], list1[1])\n",
    "\n",
    "def find_runner_up(n, mx, secondmx):\n",
    "    for i in range(2, n):\n",
    "        if list1[i] > mx:\n",
    "            secondmx = mx\n",
    "            mx = list1[i]\n",
    "        elif list1[i] > secondmx and mx != list1[i]:\n",
    "            secondmx = list1[i]\n",
    "        else:\n",
    "            if secondmx == mx:\n",
    "                secondmx = list1[i]\n",
    "    return secondmx\n",
    "\n",
    "find_runner_up(n, mx, secondmx)"
   ]
  },
  {
   "cell_type": "code",
   "execution_count": 5,
   "metadata": {},
   "outputs": [
    {
     "name": "stdout",
     "output_type": "stream",
     "text": [
      "-57\n"
     ]
    }
   ],
   "source": [
    "list1 = [57, 57, -57, 57]\n",
    "n = len(list1)\n",
    "\n",
    "mx = max(list1[0], list1[1])\n",
    "runner_up = min(list1[0], list1[1])\n",
    "\n",
    "for i in range(2, n):\n",
    "    # if the index is greater than the max\n",
    "    if list1[i] > mx:\n",
    "        # the runner-up becomes the initial\n",
    "        runner_up = mx\n",
    "        # the new max is the list index\n",
    "        mx = list1[i]\n",
    "    # else if the index is greater than the runner-up and the current max does not equal the index\n",
    "    elif list1[i] > runner_up and mx != list1[i]:\n",
    "        # the runner-up becomes the index\n",
    "        runner_up = list1[i]\n",
    "    # else\n",
    "    else:\n",
    "        # if the runner up is equal to the max\n",
    "        if runner_up == mx:\n",
    "            # the runner up becomes the index\n",
    "            runner_up = list1[i]\n",
    "\n",
    "print(runner_up)"
   ]
  }
 ],
 "metadata": {
  "kernelspec": {
   "display_name": "Python 3",
   "language": "python",
   "name": "python3"
  },
  "language_info": {
   "codemirror_mode": {
    "name": "ipython",
    "version": 3
   },
   "file_extension": ".py",
   "mimetype": "text/x-python",
   "name": "python",
   "nbconvert_exporter": "python",
   "pygments_lexer": "ipython3",
   "version": "3.7.4"
  }
 },
 "nbformat": 4,
 "nbformat_minor": 2
}
