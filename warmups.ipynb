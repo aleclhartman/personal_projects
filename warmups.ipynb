{
 "cells": [
  {
   "cell_type": "code",
   "execution_count": 1,
   "metadata": {},
   "outputs": [
    {
     "name": "stdout",
     "output_type": "stream",
     "text": [
      "Weird\n"
     ]
    }
   ],
   "source": [
    "n = 3\n",
    "\n",
    "if (n % 2 == 1):\n",
    "    print(\"Weird\")\n",
    "elif (n in range(2, 6)) and (n % 2 == 0):\n",
    "    print(\"Not Weird\")\n",
    "elif (n in range(6, 21)) and (n % 2 == 0):\n",
    "    print(\"Weird\")\n",
    "elif (n % 2 == 0) and (n > 20):\n",
    "    print(\"Not Weird\")"
   ]
  },
  {
   "cell_type": "code",
   "execution_count": 2,
   "metadata": {},
   "outputs": [
    {
     "name": "stdout",
     "output_type": "stream",
     "text": [
      "Not Weird\n"
     ]
    }
   ],
   "source": [
    "n = 24\n",
    "\n",
    "if (n % 2 == 1):\n",
    "    print(\"Weird\")\n",
    "elif (n in range(2, 6)) and (n % 2 == 0):\n",
    "    print(\"Not Weird\")\n",
    "elif (n in range(6, 21)) and (n % 2 == 0):\n",
    "    print(\"Weird\")\n",
    "elif (n % 2 == 0) and (n > 20):\n",
    "    print(\"Not Weird\")"
   ]
  },
  {
   "cell_type": "code",
   "execution_count": null,
   "metadata": {},
   "outputs": [],
   "source": []
  }
 ],
 "metadata": {
  "kernelspec": {
   "display_name": "Python 3",
   "language": "python",
   "name": "python3"
  },
  "language_info": {
   "codemirror_mode": {
    "name": "ipython",
    "version": 3
   },
   "file_extension": ".py",
   "mimetype": "text/x-python",
   "name": "python",
   "nbconvert_exporter": "python",
   "pygments_lexer": "ipython3",
   "version": "3.7.4"
  }
 },
 "nbformat": 4,
 "nbformat_minor": 2
}
