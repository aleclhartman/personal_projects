{
 "cells": [
  {
   "cell_type": "code",
   "execution_count": 1,
   "metadata": {},
   "outputs": [],
   "source": [
    "n = 3\n",
    "\n",
    "if (n % 2 == 1):\n",
    "    print(\"Weird\")\n",
    "elif (n in range(2, 6)) and (n % 2 == 0):\n",
    "    print(\"Not Weird\")\n",
    "elif (n in range(6, 21)) and (n % 2 == 0):\n",
    "    print(\"Weird\")\n",
    "elif (n % 2 == 0) and (n > 20):\n",
    "    print(\"Not Weird\")"
   ]
  },
  {
   "cell_type": "code",
   "execution_count": 2,
   "metadata": {},
   "outputs": [],
   "source": [
    "n = 24\n",
    "\n",
    "if (n % 2 == 1):\n",
    "    print(\"Weird\")\n",
    "elif (n in range(2, 6)) and (n % 2 == 0):\n",
    "    print(\"Not Weird\")\n",
    "elif (n in range(6, 21)) and (n % 2 == 0):\n",
    "    print(\"Weird\")\n",
    "elif (n % 2 == 0) and (n > 20):\n",
    "    print(\"Not Weird\")"
   ]
  },
  {
   "cell_type": "code",
   "execution_count": 3,
   "metadata": {},
   "outputs": [
    {
     "data": {
      "text/plain": [
       "[[0, 0, 0], [0, 0, 1], [0, 1, 0], [1, 0, 0], [1, 1, 1]]"
      ]
     },
     "execution_count": 3,
     "metadata": {},
     "output_type": "execute_result"
    }
   ],
   "source": [
    "x = 1\n",
    "y = 1\n",
    "z = 1\n",
    "n = 2\n",
    "\n",
    "[[i, j, k] for i in range(0, x + 1) for j in range(0, y + 1) for k in range(0, z + 1) if (i + j + k) != n]"
   ]
  },
  {
   "cell_type": "code",
   "execution_count": 4,
   "metadata": {},
   "outputs": [
    {
     "data": {
      "text/plain": [
       "5"
      ]
     },
     "execution_count": 4,
     "metadata": {},
     "output_type": "execute_result"
    }
   ],
   "source": [
    "list1 = [2, 3, 6, 6, 5]\n",
    "n = len(list1)\n",
    "\n",
    "mx = max(list1[0], list1[1])\n",
    "secondmx = min(list1[0], list1[1])\n",
    "\n",
    "def find_runner_up(n, mx, secondmx):\n",
    "    for i in range(2, n):\n",
    "        if list1[i] > mx:\n",
    "            secondmx = mx\n",
    "            mx = list1[i]\n",
    "        elif list1[i] > secondmx and mx != list1[i]:\n",
    "            secondmx = list1[i]\n",
    "        else:\n",
    "            if secondmx == mx:\n",
    "                secondmx = list1[i]\n",
    "    return secondmx\n",
    "\n",
    "find_runner_up(n, mx, secondmx)"
   ]
  },
  {
   "cell_type": "code",
   "execution_count": 5,
   "metadata": {},
   "outputs": [
    {
     "name": "stdout",
     "output_type": "stream",
     "text": [
      "-57\n"
     ]
    }
   ],
   "source": [
    "list1 = [57, 57, -57, 57]\n",
    "n = len(list1)\n",
    "\n",
    "mx = max(list1[0], list1[1])\n",
    "runner_up = min(list1[0], list1[1])\n",
    "\n",
    "for i in range(2, n):\n",
    "    # if the index is greater than the max\n",
    "    if list1[i] > mx:\n",
    "        # the runner-up becomes the initial\n",
    "        runner_up = mx\n",
    "        # the new max is the list index\n",
    "        mx = list1[i]\n",
    "    # else if the index is greater than the runner-up and the current max does not equal the index\n",
    "    elif list1[i] > runner_up and mx != list1[i]:\n",
    "        # the runner-up becomes the index\n",
    "        runner_up = list1[i]\n",
    "    # else\n",
    "    else:\n",
    "        # if the runner up is equal to the max\n",
    "        if runner_up == mx:\n",
    "            # the runner up becomes the index\n",
    "            runner_up = list1[i]\n",
    "\n",
    "print(runner_up)"
   ]
  },
  {
   "cell_type": "code",
   "execution_count": 6,
   "metadata": {},
   "outputs": [],
   "source": [
    "name_and_score = [[\"Harry\", 37.21], [\"Berry\", 37.21], [\"Tina\", 37.2], [\"Akriti\", 41], [\"Harsh\", 39]]\n",
    "    \n",
    "# min_score = min(name_and_score[:][1])"
   ]
  },
  {
   "cell_type": "code",
   "execution_count": 7,
   "metadata": {},
   "outputs": [],
   "source": [
    "# names\n",
    "# pair[:][0]\n",
    "\n",
    "# scores\n",
    "# pair[:][1]"
   ]
  },
  {
   "cell_type": "code",
   "execution_count": 8,
   "metadata": {},
   "outputs": [
    {
     "name": "stdout",
     "output_type": "stream",
     "text": [
      "Harry\n",
      "Berry\n",
      "Tina\n",
      "Akriti\n",
      "Harsh\n"
     ]
    }
   ],
   "source": [
    "for pair in name_and_score:\n",
    "    print(pair[:][0])"
   ]
  },
  {
   "cell_type": "code",
   "execution_count": 9,
   "metadata": {},
   "outputs": [
    {
     "name": "stdout",
     "output_type": "stream",
     "text": [
      "37.21\n",
      "37.21\n",
      "37.2\n",
      "41\n",
      "39\n"
     ]
    }
   ],
   "source": [
    "for pair in name_and_score:\n",
    "    print(pair[:][1])"
   ]
  },
  {
   "cell_type": "code",
   "execution_count": 10,
   "metadata": {},
   "outputs": [
    {
     "data": {
      "text/plain": [
       "37.21"
      ]
     },
     "execution_count": 10,
     "metadata": {},
     "output_type": "execute_result"
    }
   ],
   "source": [
    "name_and_score[0][1]"
   ]
  },
  {
   "cell_type": "code",
   "execution_count": 11,
   "metadata": {},
   "outputs": [
    {
     "data": {
      "text/plain": [
       "37.21"
      ]
     },
     "execution_count": 11,
     "metadata": {},
     "output_type": "execute_result"
    }
   ],
   "source": [
    "min_score = min(name_and_score[0][1], name_and_score[1][1])\n",
    "min_score"
   ]
  },
  {
   "cell_type": "code",
   "execution_count": 12,
   "metadata": {},
   "outputs": [
    {
     "name": "stdout",
     "output_type": "stream",
     "text": [
      "5\n",
      "alec\n",
      "8\n",
      "gary\n",
      "9\n",
      "bob\n",
      "4\n",
      "joe\n",
      "6\n",
      "guy\n",
      "7\n",
      "joe\n"
     ]
    }
   ],
   "source": [
    "gradebook = []\n",
    "for _ in range(int(input())):\n",
    "    gradebook.append([input(), float(input())])\n",
    "    \n",
    "second_highest_grade = sorted(list(set([grade for student, grade in gradebook])))[1]\n",
    "\n",
    "print(\"\\n\".join([student for student, grade in sorted(gradebook) if grade == second_highest_grade]))"
   ]
  },
  {
   "cell_type": "code",
   "execution_count": null,
   "metadata": {},
   "outputs": [],
   "source": []
  }
 ],
 "metadata": {
  "kernelspec": {
   "display_name": "Python 3",
   "language": "python",
   "name": "python3"
  },
  "language_info": {
   "codemirror_mode": {
    "name": "ipython",
    "version": 3
   },
   "file_extension": ".py",
   "mimetype": "text/x-python",
   "name": "python",
   "nbconvert_exporter": "python",
   "pygments_lexer": "ipython3",
   "version": "3.7.4"
  }
 },
 "nbformat": 4,
 "nbformat_minor": 2
}
